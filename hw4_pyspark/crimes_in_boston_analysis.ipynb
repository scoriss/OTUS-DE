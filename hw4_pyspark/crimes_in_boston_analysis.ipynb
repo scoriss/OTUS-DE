{
 "cells": [
  {
   "cell_type": "markdown",
   "source": [
    "## OTUS-DE - HW4 Сборка витрины на PySpark\n",
    "\n",
    "В этом задании предлагается собрать статистику по криминогенной обстановке в разных районах Бостона. \n",
    "В качестве исходных данных используется датасет **[Kaggle - Crimes in Boston](https://www.kaggle.com/AnalyzeBoston/crimes-in-boston)**\n",
    "\n",
    "\n",
    "### Цель\n",
    "    * Разработать программу построения витрины.\n",
    "\n",
    "### Подсказки\n",
    "* Функция `percentile_approx` может посчитать медиану.\n",
    "* В справочнике кодов есть дубликаты. Нужно выбрать уникальные коды, взяв любое из названий.\n",
    "\n",
    "### Шаги\n",
    "1. Загрузить данные.\n",
    "    * Проверить данные на корректность, наличие дубликатов. Очистить.\n",
    "2. Собрать витрину (агрегат по районам (поле **district**) со следующими метриками:\n",
    "    * **crimes_total** - общее количество преступлений в этом районе\n",
    "    * **crimes_monthly** - медиана числа преступлений в месяц в этом районе\n",
    "    * **frequent_crime_types** - три самых частых crime_type за всю историю наблюдений в этом районе, объединенных через запятую с одним пробелом “, ” , расположенных в порядке убывания частоты\n",
    "        * **crime_type** - первая часть NAME из таблицы offense_codes, разбитого по разделителю “-” (например, если NAME “BURGLARY - COMMERICAL - ATTEMPT”, то crime_type “BURGLARY”)\n",
    "    * **lat** - широта координаты района, рассчитанная как среднее по всем широтам инцидентов\n",
    "    * **lng** - долгота координаты района, рассчитанная как среднее по всем долготам инцидентов\n",
    "3. Сохранить витрину в один файл в формате .parquet в папке path/to/output_folder."
   ],
   "metadata": {}
  },
  {
   "cell_type": "code",
   "execution_count": 1,
   "source": [
    "from pyspark.sql import SparkSession\r\n",
    "from pyspark.sql.functions import *\r\n",
    "from pyspark.sql import Window"
   ],
   "outputs": [],
   "metadata": {}
  },
  {
   "cell_type": "markdown",
   "source": [
    "### Переменные - пути к файлам и к итоговой папке для parquet-файла"
   ],
   "metadata": {}
  },
  {
   "cell_type": "code",
   "execution_count": 2,
   "source": [
    "codes_file = \".\\data\\offense_codes.csv\"\r\n",
    "crime_file = \".\\data\\crime.csv\"\r\n",
    "parquet_folder = \".\\output\""
   ],
   "outputs": [],
   "metadata": {}
  },
  {
   "cell_type": "code",
   "execution_count": 3,
   "source": [
    "spark = SparkSession.builder.master(\"local[*]\").appName(\"crimes_in_boston_analysis\").getOrCreate()"
   ],
   "outputs": [],
   "metadata": {}
  },
  {
   "cell_type": "markdown",
   "source": [
    "### Произведем анализ и предварительную подготовку в наборе данных файла - offense_codes.csv"
   ],
   "metadata": {}
  },
  {
   "cell_type": "code",
   "execution_count": 4,
   "source": [
    "df_codes_src = spark.read.format(\"csv\").option(\"mode\", \"FAILFAST\").option(\"inferSchema\", \"true\") \\\r\n",
    "    .option(\"header\",\"true\").option(\"encoding\", \"latin1\").option(\"path\", codes_file ) \\\r\n",
    "    .load()\r\n",
    "\r\n",
    "df_codes_src.show(10, truncate=False)"
   ],
   "outputs": [
    {
     "output_type": "stream",
     "name": "stdout",
     "text": [
      "+----+------------------------------------------+\n",
      "|CODE|NAME                                      |\n",
      "+----+------------------------------------------+\n",
      "|612 |LARCENY PURSE SNATCH - NO FORCE           |\n",
      "|613 |LARCENY SHOPLIFTING                       |\n",
      "|615 |LARCENY THEFT OF MV PARTS & ACCESSORIES   |\n",
      "|1731|INCEST                                    |\n",
      "|3111|LICENSE PREMISE VIOLATION                 |\n",
      "|2646|LIQUOR - DRINKING IN PUBLIC               |\n",
      "|2204|LIQUOR LAW VIOLATION                      |\n",
      "|3810|M/V ACCIDENT - INVOLVING ÊBICYCLE - INJURY|\n",
      "|3801|M/V ACCIDENT - OTHER                      |\n",
      "|3807|M/V ACCIDENT - OTHER CITY VEHICLE         |\n",
      "+----+------------------------------------------+\n",
      "only showing top 10 rows\n",
      "\n"
     ]
    }
   ],
   "metadata": {}
  },
  {
   "cell_type": "code",
   "execution_count": 5,
   "source": [
    "df_codes_src.printSchema()"
   ],
   "outputs": [
    {
     "output_type": "stream",
     "name": "stdout",
     "text": [
      "root\n",
      " |-- CODE: integer (nullable = true)\n",
      " |-- NAME: string (nullable = true)\n",
      "\n"
     ]
    }
   ],
   "metadata": {}
  },
  {
   "cell_type": "code",
   "execution_count": 6,
   "source": [
    "df_codes_src.count()"
   ],
   "outputs": [
    {
     "output_type": "execute_result",
     "data": {
      "text/plain": [
       "576"
      ]
     },
     "metadata": {},
     "execution_count": 6
    }
   ],
   "metadata": {}
  },
  {
   "cell_type": "markdown",
   "source": [
    "#### Проверка нулевых значений"
   ],
   "metadata": {}
  },
  {
   "cell_type": "code",
   "execution_count": 7,
   "source": [
    "df_codes_src.where(\"CODE IS NULL OR NAME IS NULL\").show(truncate=False)"
   ],
   "outputs": [
    {
     "output_type": "stream",
     "name": "stdout",
     "text": [
      "+----+----+\n",
      "|CODE|NAME|\n",
      "+----+----+\n",
      "+----+----+\n",
      "\n"
     ]
    }
   ],
   "metadata": {}
  },
  {
   "cell_type": "markdown",
   "source": [
    "#### Проверка на дублирование кодов преступлений и список наименование преступлений в дубликатах через \",\""
   ],
   "metadata": {}
  },
  {
   "cell_type": "code",
   "execution_count": 8,
   "source": [
    "df_codes_src.groupBy(col(\"CODE\")) \\\r\n",
    "    .agg(count(col(\"CODE\")).alias(\"CODE_COUNT\"), collect_list(col(\"NAME\")).alias(\"NAME_LIST\")) \\\r\n",
    "    .orderBy(col(\"CODE_COUNT\").desc()) \\\r\n",
    "    .show(truncate=False)"
   ],
   "outputs": [
    {
     "output_type": "stream",
     "name": "stdout",
     "text": [
      "+----+----------+------------------------------------------------------------------------------------------------+\n",
      "|CODE|CODE_COUNT|NAME_LIST                                                                                       |\n",
      "+----+----------+------------------------------------------------------------------------------------------------+\n",
      "|2608|3         |[CHINS, CHINS, CHINS]                                                                           |\n",
      "|2610|2         |[TRESPASSING, TRESPASSING]                                                                      |\n",
      "|2663|2         |[VIOLATION - CITY ORDINANCE CONSTRUCTION PERMIT, VIOLATION - CITY ORDINANCE CONSTRUCTION PERMIT]|\n",
      "|2006|2         |[VIOLATION - RESTRAINING ORDER, VIOL. OF RESTRAINING ORDER W ARREST]                            |\n",
      "|2907|2         |[M/V - LEAVING SCENE - PROPERTY DAMAGE, VAL - OPERATING AFTER REV/SUSP.]                        |\n",
      "|1415|2         |[VANDALISM - GRAFFITI, GRAFFITI]                                                                |\n",
      "|1201|2         |[EMBEZZLEMENT, EMBEZZLEMENT]                                                                    |\n",
      "|3116|2         |[HARBOR INCIDENT / VIOLATION, HARBOR INCIDENTS]                                                 |\n",
      "|2003|2         |[CHILD ABUSE, CHILD ENDANGERMENT (NO ASSAULT)]                                                  |\n",
      "|1721|2         |[FAILURE TO REGISTER AS A SEX OFFENDER, FAILURE TO REGISTER AS A SEX OFFENDER]                  |\n",
      "|613 |2         |[LARCENY SHOPLIFTING $200 & OVER, LARCENY SHOPLIFTING]                                          |\n",
      "|2905|2         |[VAL - OPERATING WITHOUT LICENSE, VAL - OPERATING WITHOUT LICENSE]                              |\n",
      "|2622|2         |[KIDNAPPING/CUSTODIAL KIDNAPPING, KIDNAPPING - FORCE]                                           |\n",
      "|2606|2         |[PRISONER - ATTEMPT TO RESCUE, PRISONER ATTEMPT TO RESCUE]                                      |\n",
      "|3123|2         |[EXPLOSIVES - TURNED IN OR FOUND, EXPLOSIVES - TURNED IN OR FOUND]                              |\n",
      "|3502|2         |[MISSING PERSON - LOCATED, MISSING PERSON - LOCATED]                                            |\n",
      "|804 |2         |[STALKING, STALKING]                                                                            |\n",
      "|540 |2         |[B&E NON-RESIDENCE DAY - FORCIBLE, BURGLARY - COMMERICAL - FORCE]                               |\n",
      "|3008|2         |[SUICIDE / SUICIDE ATTEMPT, SUICIDE]                                                            |\n",
      "|2662|2         |[BALLISTICS EVIDENCE/FOUND, BALLISTICS EVIDENCE/FOUND]                                          |\n",
      "+----+----------+------------------------------------------------------------------------------------------------+\n",
      "only showing top 20 rows\n",
      "\n"
     ]
    }
   ],
   "metadata": {}
  },
  {
   "cell_type": "markdown",
   "source": [
    "#### Формирование финального набора данных df_codes\n",
    "* Оставляем уникальные коды, взяв любое из названий в дубликатах.\n",
    "* Формируем столбец **crime_type** - первая часть NAME из таблицы offense_codes, разбитого по разделителю “-” (например, если NAME “BURGLARY - COMMERICAL - ATTEMPT”, то crime_type “BURGLARY”)"
   ],
   "metadata": {}
  },
  {
   "cell_type": "code",
   "execution_count": 9,
   "source": [
    "df_codes = df_codes_src \\\r\n",
    "    .withColumn(\"row_num\", row_number().over( Window.partitionBy(\"CODE\").orderBy(col(\"NAME\").desc()) )) \\\r\n",
    "    .filter(col(\"row_num\") == 1).drop(\"row_num\") \\\r\n",
    "    .withColumn('CRIME_TYPE', substring_index(\"NAME\", \" -\", 1)) \\\r\n",
    "    .orderBy(col(\"CODE\")) \r\n",
    "\r\n",
    "df_codes.show(20, truncate=False)"
   ],
   "outputs": [
    {
     "output_type": "stream",
     "name": "stdout",
     "text": [
      "+----+--------------------------------------------------+-----------------------------------+\n",
      "|CODE|NAME                                              |CRIME_TYPE                         |\n",
      "+----+--------------------------------------------------+-----------------------------------+\n",
      "|111 |MURDER, NON-NEGLIGIENT MANSLAUGHTER               |MURDER, NON-NEGLIGIENT MANSLAUGHTER|\n",
      "|112 |KILLING OF FELON BY POLICE                        |KILLING OF FELON BY POLICE         |\n",
      "|113 |KILLING OF FELON BY CITIZEN                       |KILLING OF FELON BY CITIZEN        |\n",
      "|114 |KILLING OF POLICE BY FELON                        |KILLING OF POLICE BY FELON         |\n",
      "|121 |MANSLAUGHTER - VEHICLE - NEGLIGENCE               |MANSLAUGHTER                       |\n",
      "|122 |MANSLAUGHTER - TRAIN ETC. VICTIM NON-NEGLIGENCE   |MANSLAUGHTER                       |\n",
      "|123 |MANSLAUGHTER - NON-VEHICLE - NEGLIGENCE           |MANSLAUGHTER                       |\n",
      "|124 |MANSLAUGHTER - VEHICLE - NEGLIGENCE OF VICTIM     |MANSLAUGHTER                       |\n",
      "|125 |MANSLAUGHTER - TRAIN ETC. VICTIM NEGLIGENCE       |MANSLAUGHTER                       |\n",
      "|211 |RAPE - FEMALE - FORCE                             |RAPE                               |\n",
      "|212 |RAPE - MALE - FORCE                               |RAPE                               |\n",
      "|213 |RAPE - FEMALE/MALE - FORCE - UNNATURAL ACT        |RAPE                               |\n",
      "|222 |RAPE - FEMALE ATTEMPT FORCE                       |RAPE                               |\n",
      "|223 |RAPE - MALE - ATTEMPT FORCE                       |RAPE                               |\n",
      "|224 |RAPE - FEMALE/MALE - ATTEMPT FORCE - UNNATURAL ACT|RAPE                               |\n",
      "|230 |RAPE - FEMALE - ATTEMPT FORCE - UNDER 16          |RAPE                               |\n",
      "|231 |RAPE - MALE - ATTEMPT FORCE - UNDER 16            |RAPE                               |\n",
      "|232 |RAPE - FEMALE FORCE - UNDER 16                    |RAPE                               |\n",
      "|233 |RAPE - FEMALE - FORCE UNDER 16 DSS/DA REFFERRAL   |RAPE                               |\n",
      "|234 |RAPE - MALE - FORCE - UNDER 16                    |RAPE                               |\n",
      "+----+--------------------------------------------------+-----------------------------------+\n",
      "only showing top 20 rows\n",
      "\n"
     ]
    }
   ],
   "metadata": {}
  },
  {
   "cell_type": "code",
   "execution_count": 10,
   "source": [
    "df_codes.count()"
   ],
   "outputs": [
    {
     "output_type": "execute_result",
     "data": {
      "text/plain": [
       "425"
      ]
     },
     "metadata": {},
     "execution_count": 10
    }
   ],
   "metadata": {}
  },
  {
   "cell_type": "markdown",
   "source": [
    "### Произведем анализ и предварительную подготовку в наборе данных файла - crime.csv\n",
    "* Сразу оставляем только необходимые столбцы из датасета"
   ],
   "metadata": {}
  },
  {
   "cell_type": "code",
   "execution_count": 11,
   "source": [
    "df_crime_src = spark.read.format(\"csv\").option(\"mode\", \"FAILFAST\").option(\"inferSchema\", \"true\") \\\r\n",
    "    .option(\"header\",\"true\").option(\"path\", crime_file).option(\"encoding\", \"latin1\") \\\r\n",
    "    .load() \\\r\n",
    "    .select(\"DISTRICT\", \"YEAR\", \"MONTH\", \"OFFENSE_CODE\", \"Lat\", \"Long\")\r\n",
    "\r\n",
    "df_crime_src.show(10, truncate=False)"
   ],
   "outputs": [
    {
     "output_type": "stream",
     "name": "stdout",
     "text": [
      "+--------+----+-----+------------+-----------+------------+\n",
      "|DISTRICT|YEAR|MONTH|OFFENSE_CODE|Lat        |Long        |\n",
      "+--------+----+-----+------------+-----------+------------+\n",
      "|D14     |2018|9    |619         |42.35779134|-71.13937053|\n",
      "|C11     |2018|8    |1402        |42.30682138|-71.06030035|\n",
      "|D4      |2018|9    |3410        |42.34658879|-71.07242943|\n",
      "|D4      |2018|9    |3114        |42.33418175|-71.07866441|\n",
      "|B3      |2018|9    |3114        |42.27536542|-71.09036101|\n",
      "|C11     |2018|9    |3820        |42.29019621|-71.07159012|\n",
      "|B2      |2018|9    |724         |42.30607218|-71.0827326 |\n",
      "|B2      |2018|9    |3301        |42.32701648|-71.10555088|\n",
      "|C6      |2018|9    |301         |42.33152148|-71.07085307|\n",
      "|C11     |2018|9    |3301        |42.29514664|-71.05860832|\n",
      "+--------+----+-----+------------+-----------+------------+\n",
      "only showing top 10 rows\n",
      "\n"
     ]
    }
   ],
   "metadata": {}
  },
  {
   "cell_type": "code",
   "execution_count": 12,
   "source": [
    "df_crime_src.printSchema()"
   ],
   "outputs": [
    {
     "output_type": "stream",
     "name": "stdout",
     "text": [
      "root\n",
      " |-- DISTRICT: string (nullable = true)\n",
      " |-- YEAR: integer (nullable = true)\n",
      " |-- MONTH: integer (nullable = true)\n",
      " |-- OFFENSE_CODE: integer (nullable = true)\n",
      " |-- Lat: double (nullable = true)\n",
      " |-- Long: double (nullable = true)\n",
      "\n"
     ]
    }
   ],
   "metadata": {}
  },
  {
   "cell_type": "code",
   "execution_count": 13,
   "source": [
    "df_crime_src.count()"
   ],
   "outputs": [
    {
     "output_type": "execute_result",
     "data": {
      "text/plain": [
       "319073"
      ]
     },
     "metadata": {},
     "execution_count": 13
    }
   ],
   "metadata": {}
  },
  {
   "cell_type": "markdown",
   "source": [
    "#### Проверка нулевых значений"
   ],
   "metadata": {}
  },
  {
   "cell_type": "code",
   "execution_count": 14,
   "source": [
    "df_crime_src.where(\"DISTRICT IS NULL\").count()"
   ],
   "outputs": [
    {
     "output_type": "execute_result",
     "data": {
      "text/plain": [
       "1765"
      ]
     },
     "metadata": {},
     "execution_count": 14
    }
   ],
   "metadata": {}
  },
  {
   "cell_type": "code",
   "execution_count": 15,
   "source": [
    "df_crime_src.where(\"OFFENSE_CODE IS NULL\").count()"
   ],
   "outputs": [
    {
     "output_type": "execute_result",
     "data": {
      "text/plain": [
       "0"
      ]
     },
     "metadata": {},
     "execution_count": 15
    }
   ],
   "metadata": {}
  },
  {
   "cell_type": "code",
   "execution_count": 16,
   "source": [
    "df_crime_src.select('Lat', 'Long').distinct().orderBy(\"Lat\", \"Long\").show(truncate=False)"
   ],
   "outputs": [
    {
     "output_type": "stream",
     "name": "stdout",
     "text": [
      "+-----------+------------+\n",
      "|Lat        |Long        |\n",
      "+-----------+------------+\n",
      "|null       |null        |\n",
      "|-1.0       |-1.0        |\n",
      "|42.2324133 |-71.12971531|\n",
      "|42.23265556|-71.13069992|\n",
      "|42.23287025|-71.13004959|\n",
      "|42.23290729|-71.13167059|\n",
      "|42.2330858 |-71.12815697|\n",
      "|42.23312147|-71.13102697|\n",
      "|42.23315741|-71.13265354|\n",
      "|42.23334151|-71.13368781|\n",
      "|42.23337226|-71.13200359|\n",
      "|42.23346994|-71.13862962|\n",
      "|42.23357448|-71.12917748|\n",
      "|42.23358147|-71.13453781|\n",
      "|42.23362594|-71.13299328|\n",
      "|42.23371303|-71.13129839|\n",
      "|42.23375394|-71.13349324|\n",
      "|42.23382322|-71.13015658|\n",
      "|42.23396095|-71.13228408|\n",
      "|42.23405146|-71.13882916|\n",
      "+-----------+------------+\n",
      "only showing top 20 rows\n",
      "\n"
     ]
    }
   ],
   "metadata": {}
  },
  {
   "cell_type": "code",
   "execution_count": 17,
   "source": [
    "df_crime_src.where(\"(Lat=-1 AND Long=-1) OR Lat IS NULL OR Long IS NULL\").count()"
   ],
   "outputs": [
    {
     "output_type": "execute_result",
     "data": {
      "text/plain": [
       "20744"
      ]
     },
     "metadata": {},
     "execution_count": 17
    }
   ],
   "metadata": {}
  },
  {
   "cell_type": "markdown",
   "source": [
    "* **20744** Строки с нулевыми или неверными значениями координат - при расчете средних значений широты и долготы, такие строки отфильтруем "
   ],
   "metadata": {}
  },
  {
   "cell_type": "markdown",
   "source": [
    "#### Формирование финального  набора данных  df_crime\n",
    "* **1765** строк с пустыми значениями поля DISTRICT. Далее заменим такие значения на **N/A** и проведем расчет витрины"
   ],
   "metadata": {}
  },
  {
   "cell_type": "code",
   "execution_count": 18,
   "source": [
    "df_crime = df_crime_src \\\r\n",
    "    .withColumn('DISTRICT', when(df_crime_src.DISTRICT.isNull() , 'N/A') \\\r\n",
    "    .otherwise(df_crime_src.DISTRICT)) \r\n",
    "\r\n",
    "df_crime.show(truncate=False)"
   ],
   "outputs": [
    {
     "output_type": "stream",
     "name": "stdout",
     "text": [
      "+--------+----+-----+------------+-----------+------------+\n",
      "|DISTRICT|YEAR|MONTH|OFFENSE_CODE|Lat        |Long        |\n",
      "+--------+----+-----+------------+-----------+------------+\n",
      "|D14     |2018|9    |619         |42.35779134|-71.13937053|\n",
      "|C11     |2018|8    |1402        |42.30682138|-71.06030035|\n",
      "|D4      |2018|9    |3410        |42.34658879|-71.07242943|\n",
      "|D4      |2018|9    |3114        |42.33418175|-71.07866441|\n",
      "|B3      |2018|9    |3114        |42.27536542|-71.09036101|\n",
      "|C11     |2018|9    |3820        |42.29019621|-71.07159012|\n",
      "|B2      |2018|9    |724         |42.30607218|-71.0827326 |\n",
      "|B2      |2018|9    |3301        |42.32701648|-71.10555088|\n",
      "|C6      |2018|9    |301         |42.33152148|-71.07085307|\n",
      "|C11     |2018|9    |3301        |42.29514664|-71.05860832|\n",
      "|C6      |2018|9    |3301        |42.31957856|-71.04032766|\n",
      "|C6      |2018|9    |3114        |42.34011469|-71.05339029|\n",
      "|D4      |2018|9    |3108        |42.3503876 |-71.0878529 |\n",
      "|B3      |2018|9    |2647        |42.28647012|-71.08714661|\n",
      "|B3      |2018|9    |3201        |42.27924052|-71.09667382|\n",
      "|N/A     |2018|9    |3006        |42.35287456|-71.0738297 |\n",
      "|C11     |2018|9    |3301        |42.30526428|-71.06683755|\n",
      "|D4      |2018|9    |3305        |42.34857652|-71.07772012|\n",
      "|B2      |2018|9    |2647        |42.33371742|-71.09665806|\n",
      "|B2      |2018|9    |614         |42.3256949 |-71.06816778|\n",
      "+--------+----+-----+------------+-----------+------------+\n",
      "only showing top 20 rows\n",
      "\n"
     ]
    }
   ],
   "metadata": {}
  },
  {
   "cell_type": "code",
   "execution_count": 19,
   "source": [
    "df_crime.select('DISTRICT').distinct().show(truncate=False)"
   ],
   "outputs": [
    {
     "output_type": "stream",
     "name": "stdout",
     "text": [
      "+--------+\n",
      "|DISTRICT|\n",
      "+--------+\n",
      "|C6      |\n",
      "|B2      |\n",
      "|C11     |\n",
      "|E13     |\n",
      "|B3      |\n",
      "|E5      |\n",
      "|A15     |\n",
      "|N/A     |\n",
      "|A7      |\n",
      "|D14     |\n",
      "|D4      |\n",
      "|E18     |\n",
      "|A1      |\n",
      "+--------+\n",
      "\n"
     ]
    }
   ],
   "metadata": {}
  },
  {
   "cell_type": "markdown",
   "source": [
    "### Объединяем набор данных df_crime с df_codes"
   ],
   "metadata": {}
  },
  {
   "cell_type": "code",
   "execution_count": 20,
   "source": [
    "df_crime = df_crime.join(df_codes, df_crime['OFFENSE_CODE'] == df_codes['CODE']) \\\r\n",
    "    .drop(\"CODE\", \"NAME\") \\\r\n",
    "    .cache()"
   ],
   "outputs": [],
   "metadata": {}
  },
  {
   "cell_type": "code",
   "execution_count": 21,
   "source": [
    "df_crime.show(10, truncate=False)"
   ],
   "outputs": [
    {
     "output_type": "stream",
     "name": "stdout",
     "text": [
      "+--------+----+-----+------------+-----------+------------+---------------------------------+\n",
      "|DISTRICT|YEAR|MONTH|OFFENSE_CODE|Lat        |Long        |CRIME_TYPE                       |\n",
      "+--------+----+-----+------------+-----------+------------+---------------------------------+\n",
      "|D14     |2018|9    |619         |42.35779134|-71.13937053|LARCENY OTHER $200 & OVER        |\n",
      "|C11     |2018|8    |1402        |42.30682138|-71.06030035|VANDALISM                        |\n",
      "|D4      |2018|9    |3410        |42.34658879|-71.07242943|TOWED MOTOR VEHICLE              |\n",
      "|D4      |2018|9    |3114        |42.33418175|-71.07866441|INVESTIGATE PROPERTY             |\n",
      "|B3      |2018|9    |3114        |42.27536542|-71.09036101|INVESTIGATE PROPERTY             |\n",
      "|C11     |2018|9    |3820        |42.29019621|-71.07159012|M/V ACCIDENT INVOLVING PEDESTRIAN|\n",
      "|B2      |2018|9    |724         |42.30607218|-71.0827326 |AUTO THEFT                       |\n",
      "|B2      |2018|9    |3301        |42.32701648|-71.10555088|VERBAL DISPUTE                   |\n",
      "|C6      |2018|9    |301         |42.33152148|-71.07085307|ROBBERY                          |\n",
      "|C11     |2018|9    |3301        |42.29514664|-71.05860832|VERBAL DISPUTE                   |\n",
      "+--------+----+-----+------------+-----------+------------+---------------------------------+\n",
      "only showing top 10 rows\n",
      "\n"
     ]
    }
   ],
   "metadata": {}
  },
  {
   "cell_type": "markdown",
   "source": [
    "### Формируем промежуточные наборы данных для расчета витрины"
   ],
   "metadata": {}
  },
  {
   "cell_type": "markdown",
   "source": [
    "#### Набор данных df_crimes_stat\n",
    "* **crimes_total** - Общее количество преступлений в этом районе"
   ],
   "metadata": {}
  },
  {
   "cell_type": "code",
   "execution_count": 22,
   "source": [
    "df_crimes_stat = df_crime.groupBy(col(\"DISTRICT\")) \\\r\n",
    "    .agg(count(\"*\").alias(\"crimes_total\")) \\\r\n",
    "    .orderBy(col(\"DISTRICT\"))\r\n",
    "\r\n",
    "df_crimes_stat.show(truncate=False)"
   ],
   "outputs": [
    {
     "output_type": "stream",
     "name": "stdout",
     "text": [
      "+--------+------------+\n",
      "|DISTRICT|crimes_total|\n",
      "+--------+------------+\n",
      "|A1      |35717       |\n",
      "|A15     |6505        |\n",
      "|A7      |13544       |\n",
      "|B2      |49945       |\n",
      "|B3      |35442       |\n",
      "|C11     |42530       |\n",
      "|C6      |23460       |\n",
      "|D14     |20127       |\n",
      "|D4      |41915       |\n",
      "|E13     |17536       |\n",
      "|E18     |17348       |\n",
      "|E5      |13239       |\n",
      "|N/A     |1765        |\n",
      "+--------+------------+\n",
      "\n"
     ]
    }
   ],
   "metadata": {}
  },
  {
   "cell_type": "markdown",
   "source": [
    "#### Набор данных df_crimes_lat_lng\n",
    "Сразу фильтруем записи с нулевыми и некорректными значениями координат\n",
    "* **lat** - Широта координаты района, рассчитанная как среднее по всем широтам инцидентов\n",
    "* **lng** - Долгота координаты района, рассчитанная как среднее по всем долготам инцидентов"
   ],
   "metadata": {}
  },
  {
   "cell_type": "code",
   "execution_count": 23,
   "source": [
    "df_crimes_lat_lng = df_crime.where(\"(Lat<>-1 AND Long<>-1) AND Lat IS NOT NULL AND Long IS NOT NULL\") \\\r\n",
    "    .groupBy(col(\"DISTRICT\")) \\\r\n",
    "    .agg(avg(col(\"Lat\")).alias(\"lat\"), avg(col(\"Long\")).alias(\"lng\")) \\\r\n",
    "    .withColumnRenamed(\"DISTRICT\",\"DISTRICT_ID\") \\\r\n",
    "    .orderBy(col(\"DISTRICT\"))\r\n",
    "\r\n",
    "df_crimes_lat_lng.show(truncate=False)"
   ],
   "outputs": [
    {
     "output_type": "stream",
     "name": "stdout",
     "text": [
      "+-----------+------------------+------------------+\n",
      "|DISTRICT_ID|lat               |lng               |\n",
      "+-----------+------------------+------------------+\n",
      "|A1         |42.356733944170074|-71.06112996712555|\n",
      "|A15        |42.375999332158834|-71.06267564355906|\n",
      "|A7         |42.377355459516075|-71.0308336320078 |\n",
      "|B2         |42.32162901059031 |-71.08479984973175|\n",
      "|B3         |42.28691276522989 |-71.08518799423271|\n",
      "|C11        |42.300052708547035|-71.0632585581977 |\n",
      "|C6         |42.33362804576509 |-71.05203273306215|\n",
      "|D14        |42.350309783520814|-71.14226135353768|\n",
      "|D4         |42.34350022705698 |-71.08090067663262|\n",
      "|E13        |42.31502201870257 |-71.10645084032775|\n",
      "|E18        |42.262680611226024|-71.11891998757694|\n",
      "|E5         |42.2824730656643  |-71.14134995577236|\n",
      "|N/A        |42.32297345803791 |-71.08543463457076|\n",
      "+-----------+------------------+------------------+\n",
      "\n"
     ]
    }
   ],
   "metadata": {}
  },
  {
   "cell_type": "markdown",
   "source": [
    "#### Набор данных df_crimes_monthly\n",
    "* **crimes_monthly** - медиана числа преступлений в месяц в этом районе"
   ],
   "metadata": {}
  },
  {
   "cell_type": "code",
   "execution_count": 24,
   "source": [
    "df_crimes_monthly = df_crime.groupBy(\"DISTRICT\", \"YEAR\", \"MONTH\") \\\r\n",
    "    .agg(count(\"*\").alias(\"month_crimes\")) \\\r\n",
    "    .groupBy(\"DISTRICT\") \\\r\n",
    "    .agg( expr('percentile_approx(month_crimes, 0.5)').alias(\"crimes_monthly\")) \\\r\n",
    "    .withColumnRenamed(\"DISTRICT\",\"DISTRICT_ID\") \\\r\n",
    "    .orderBy(\"DISTRICT_ID\")\r\n",
    "\r\n",
    "df_crimes_monthly.show(truncate=False)"
   ],
   "outputs": [
    {
     "output_type": "stream",
     "name": "stdout",
     "text": [
      "+-----------+--------------+\n",
      "|DISTRICT_ID|crimes_monthly|\n",
      "+-----------+--------------+\n",
      "|A1         |904           |\n",
      "|A15        |160           |\n",
      "|A7         |344           |\n",
      "|B2         |1298          |\n",
      "|B3         |907           |\n",
      "|C11        |1115          |\n",
      "|C6         |593           |\n",
      "|D14        |505           |\n",
      "|D4         |1084          |\n",
      "|E13        |445           |\n",
      "|E18        |435           |\n",
      "|E5         |337           |\n",
      "|N/A        |41            |\n",
      "+-----------+--------------+\n",
      "\n"
     ]
    }
   ],
   "metadata": {}
  },
  {
   "cell_type": "markdown",
   "source": [
    "##### Проверка расчета с вариантом через SQL к Temporary View"
   ],
   "metadata": {}
  },
  {
   "cell_type": "code",
   "execution_count": 25,
   "source": [
    "df_crimes_monthly_sql = df_crime.groupBy(\"DISTRICT\", \"YEAR\", \"MONTH\") \\\r\n",
    "    .agg(count(\"*\").alias(\"month_crimes\")) \\\r\n",
    "    .orderBy(\"DISTRICT\", \"YEAR\", \"MONTH\") \\\r\n",
    "    .createOrReplaceTempView(\"crimes_monthly\")\r\n",
    "\r\n",
    "spark.sql(\"select DISTRICT AS DISTRICT_ID, percentile_approx(month_crimes, 0.5) as crimes_monthly \\\r\n",
    "          FROM crimes_monthly GROUP BY DISTRICT ORDER BY DISTRICT_ID\") \\\r\n",
    "    .show(truncate=False)"
   ],
   "outputs": [
    {
     "output_type": "stream",
     "name": "stdout",
     "text": [
      "+-----------+--------------+\n",
      "|DISTRICT_ID|crimes_monthly|\n",
      "+-----------+--------------+\n",
      "|A1         |904           |\n",
      "|A15        |160           |\n",
      "|A7         |344           |\n",
      "|B2         |1298          |\n",
      "|B3         |907           |\n",
      "|C11        |1115          |\n",
      "|C6         |593           |\n",
      "|D14        |505           |\n",
      "|D4         |1084          |\n",
      "|E13        |445           |\n",
      "|E18        |435           |\n",
      "|E5         |337           |\n",
      "|N/A        |41            |\n",
      "+-----------+--------------+\n",
      "\n"
     ]
    }
   ],
   "metadata": {}
  },
  {
   "cell_type": "markdown",
   "source": [
    "> ## Расчет данных через SQL Expression происходит быстрее (3 s) чем через запрос к Temporary View (1+5 s) ! "
   ],
   "metadata": {}
  },
  {
   "cell_type": "markdown",
   "source": [
    "#### Набор данных df_frequent_crime_types\n",
    "* **frequent_crime_types** - три самых частых crime_type за всю историю наблюдений в этом районе, объединенных через запятую с одним пробелом “, ” , расположенных в порядке убывания частоты"
   ],
   "metadata": {}
  },
  {
   "cell_type": "code",
   "execution_count": 26,
   "source": [
    "df_frequent_crime_types = df_crime.groupBy(\"DISTRICT\", \"CRIME_TYPE\")  \\\r\n",
    "    .agg(count(\"*\").alias(\"crimes_by_crime_type\")) \\\r\n",
    "    .withColumn(\"row_num\", row_number().over( Window.partitionBy(\"DISTRICT\").orderBy(col(\"crimes_by_crime_type\").desc()) )) \\\r\n",
    "    .filter(col(\"row_num\") <= 3).drop(\"row_num\", \"crimes_by_crime_type\") \\\r\n",
    "    .groupBy(\"DISTRICT\") \\\r\n",
    "    .agg(concat_ws(\", \",collect_list(col(\"CRIME_TYPE\"))).alias(\"frequent_crime_types\")) \\\r\n",
    "    .withColumnRenamed(\"DISTRICT\",\"DISTRICT_ID\") \\\r\n",
    "    .orderBy(\"DISTRICT_ID\")\r\n",
    "\r\n",
    "df_frequent_crime_types.show(20, truncate=False)"
   ],
   "outputs": [
    {
     "output_type": "stream",
     "name": "stdout",
     "text": [
      "+-----------+----------------------------------------------------------------------+\n",
      "|DISTRICT_ID|frequent_crime_types                                                  |\n",
      "+-----------+----------------------------------------------------------------------+\n",
      "|A1         |PROPERTY, ASSAULT SIMPLE, DRUGS                                       |\n",
      "|A15        |M/V ACCIDENT, INVESTIGATE PERSON, M/V                                 |\n",
      "|A7         |SICK/INJURED/MEDICAL, DRUGS, INVESTIGATE PERSON                       |\n",
      "|B2         |M/V, M/V ACCIDENT, VERBAL DISPUTE                                     |\n",
      "|B3         |VERBAL DISPUTE, INVESTIGATE PERSON, MISSING PERSON                    |\n",
      "|C11        |M/V, SICK/INJURED/MEDICAL, INVESTIGATE PERSON                         |\n",
      "|C6         |DRUGS, SICK/INJURED/MEDICAL, INVESTIGATE PERSON                       |\n",
      "|D14        |TOWED MOTOR VEHICLE, M/V, SICK/INJURED/MEDICAL                        |\n",
      "|D4         |LARCENY SHOPLIFTING $200 & OVER, PROPERTY, LARCENY THEFT FROM BUILDING|\n",
      "|E13        |SICK/INJURED/MEDICAL, DRUGS, M/V ACCIDENT                             |\n",
      "|E18        |SICK/INJURED/MEDICAL, M/V ACCIDENT, INVESTIGATE PERSON                |\n",
      "|E5         |SICK/INJURED/MEDICAL, INVESTIGATE PERSON, M/V ACCIDENT                |\n",
      "|N/A        |M/V ACCIDENT, M/V, DRUGS                                              |\n",
      "+-----------+----------------------------------------------------------------------+\n",
      "\n"
     ]
    }
   ],
   "metadata": {}
  },
  {
   "cell_type": "markdown",
   "source": [
    "#### Выборочно проверяем корректность вычислений по frequent_crime_types"
   ],
   "metadata": {}
  },
  {
   "cell_type": "code",
   "execution_count": 27,
   "source": [
    "df_crime.groupBy(\"DISTRICT\", \"CRIME_TYPE\")  \\\r\n",
    "    .agg(count(\"*\").alias(\"crimes_by_crime_type\")) \\\r\n",
    "    .filter(col(\"DISTRICT\") == \"B3\") \\\r\n",
    "    .orderBy(col(\"DISTRICT\"), col(\"crimes_by_crime_type\").desc()) \\\r\n",
    "    .show(10, truncate=False)"
   ],
   "outputs": [
    {
     "output_type": "stream",
     "name": "stdout",
     "text": [
      "+--------+--------------------+--------------------+\n",
      "|DISTRICT|CRIME_TYPE          |crimes_by_crime_type|\n",
      "+--------+--------------------+--------------------+\n",
      "|B3      |VERBAL DISPUTE      |2957                |\n",
      "|B3      |INVESTIGATE PERSON  |2460                |\n",
      "|B3      |MISSING PERSON      |2153                |\n",
      "|B3      |SICK/INJURED/MEDICAL|2003                |\n",
      "|B3      |VANDALISM           |1915                |\n",
      "|B3      |M/V                 |1909                |\n",
      "|B3      |M/V ACCIDENT        |1797                |\n",
      "|B3      |ASSAULT SIMPLE      |1722                |\n",
      "|B3      |DRUGS               |1505                |\n",
      "|B3      |INVESTIGATE PROPERTY|1431                |\n",
      "+--------+--------------------+--------------------+\n",
      "only showing top 10 rows\n",
      "\n"
     ]
    }
   ],
   "metadata": {}
  },
  {
   "cell_type": "markdown",
   "source": [
    "### Готовим итоговый набор данных df_result\n",
    "* **DISTRICT**\n",
    "* **crimes_total**\n",
    "* **crimes_monthly**\n",
    "* **frequent_crime_types**\n",
    "* **lat**\n",
    "* **lng**"
   ],
   "metadata": {}
  },
  {
   "cell_type": "code",
   "execution_count": 28,
   "source": [
    "df_result = df_crimes_stat.join(df_crimes_monthly, df_crimes_stat['DISTRICT'] == df_crimes_monthly['DISTRICT_ID']) \\\r\n",
    "    .drop(\"DISTRICT_ID\") \\\r\n",
    "    .join(df_frequent_crime_types, df_crimes_stat['DISTRICT'] == df_frequent_crime_types['DISTRICT_ID']) \\\r\n",
    "    .drop(\"DISTRICT_ID\") \\\r\n",
    "    .join(df_crimes_lat_lng, df_crimes_stat['DISTRICT'] == df_crimes_lat_lng['DISTRICT_ID']) \\\r\n",
    "    .drop(\"DISTRICT_ID\") \\\r\n",
    "    .select(\"DISTRICT\", \"crimes_total\", \"crimes_monthly\", \"frequent_crime_types\", \"lat\", \"lng\") \\\r\n",
    "    .orderBy(col(\"DISTRICT\"))\r\n",
    "df_result.show(truncate=True)"
   ],
   "outputs": [
    {
     "output_type": "stream",
     "name": "stdout",
     "text": [
      "+--------+------------+--------------+--------------------+------------------+------------------+\n",
      "|DISTRICT|crimes_total|crimes_monthly|frequent_crime_types|               lat|               lng|\n",
      "+--------+------------+--------------+--------------------+------------------+------------------+\n",
      "|      A1|       35717|           904|PROPERTY, ASSAULT...|42.356733944170074|-71.06112996712555|\n",
      "|     A15|        6505|           160|M/V ACCIDENT, INV...|42.375999332158834|-71.06267564355906|\n",
      "|      A7|       13544|           344|SICK/INJURED/MEDI...|42.377355459516075| -71.0308336320078|\n",
      "|      B2|       49945|          1298|M/V, M/V ACCIDENT...| 42.32162901059031|-71.08479984973175|\n",
      "|      B3|       35442|           907|VERBAL DISPUTE, I...| 42.28691276522989|-71.08518799423271|\n",
      "|     C11|       42530|          1115|M/V, SICK/INJURED...|42.300052708547035| -71.0632585581977|\n",
      "|      C6|       23460|           593|DRUGS, SICK/INJUR...| 42.33362804576509|-71.05203273306215|\n",
      "|     D14|       20127|           505|TOWED MOTOR VEHIC...|42.350309783520814|-71.14226135353768|\n",
      "|      D4|       41915|          1084|LARCENY SHOPLIFTI...| 42.34350022705698|-71.08090067663262|\n",
      "|     E13|       17536|           445|SICK/INJURED/MEDI...| 42.31502201870257|-71.10645084032775|\n",
      "|     E18|       17348|           435|SICK/INJURED/MEDI...|42.262680611226024|-71.11891998757694|\n",
      "|      E5|       13239|           337|SICK/INJURED/MEDI...|  42.2824730656643|-71.14134995577236|\n",
      "|     N/A|        1765|            41|M/V ACCIDENT, M/V...| 42.32297345803791|-71.08543463457076|\n",
      "+--------+------------+--------------+--------------------+------------------+------------------+\n",
      "\n"
     ]
    }
   ],
   "metadata": {}
  },
  {
   "cell_type": "code",
   "execution_count": 29,
   "source": [
    "df_result.select(\"DISTRICT\", \"crimes_total\", \"crimes_monthly\", \"frequent_crime_types\").show(truncate=False)"
   ],
   "outputs": [
    {
     "output_type": "stream",
     "name": "stdout",
     "text": [
      "+--------+------------+--------------+----------------------------------------------------------------------+\n",
      "|DISTRICT|crimes_total|crimes_monthly|frequent_crime_types                                                  |\n",
      "+--------+------------+--------------+----------------------------------------------------------------------+\n",
      "|A1      |35717       |904           |PROPERTY, ASSAULT SIMPLE, DRUGS                                       |\n",
      "|A15     |6505        |160           |M/V ACCIDENT, INVESTIGATE PERSON, M/V                                 |\n",
      "|A7      |13544       |344           |SICK/INJURED/MEDICAL, DRUGS, INVESTIGATE PERSON                       |\n",
      "|B2      |49945       |1298          |M/V, M/V ACCIDENT, VERBAL DISPUTE                                     |\n",
      "|B3      |35442       |907           |VERBAL DISPUTE, INVESTIGATE PERSON, MISSING PERSON                    |\n",
      "|C11     |42530       |1115          |M/V, SICK/INJURED/MEDICAL, INVESTIGATE PERSON                         |\n",
      "|C6      |23460       |593           |DRUGS, SICK/INJURED/MEDICAL, INVESTIGATE PERSON                       |\n",
      "|D14     |20127       |505           |TOWED MOTOR VEHICLE, M/V, SICK/INJURED/MEDICAL                        |\n",
      "|D4      |41915       |1084          |LARCENY SHOPLIFTING $200 & OVER, PROPERTY, LARCENY THEFT FROM BUILDING|\n",
      "|E13     |17536       |445           |SICK/INJURED/MEDICAL, DRUGS, M/V ACCIDENT                             |\n",
      "|E18     |17348       |435           |SICK/INJURED/MEDICAL, M/V ACCIDENT, INVESTIGATE PERSON                |\n",
      "|E5      |13239       |337           |SICK/INJURED/MEDICAL, INVESTIGATE PERSON, M/V ACCIDENT                |\n",
      "|N/A     |1765        |41            |M/V ACCIDENT, M/V, DRUGS                                              |\n",
      "+--------+------------+--------------+----------------------------------------------------------------------+\n",
      "\n"
     ]
    }
   ],
   "metadata": {}
  },
  {
   "cell_type": "markdown",
   "source": [
    "### Сохраняем итоговый набор данных df_result в один файл в формате parquet"
   ],
   "metadata": {}
  },
  {
   "cell_type": "code",
   "execution_count": 30,
   "source": [
    "df_result.coalesce(1).write.mode('overwrite').parquet(parquet_folder) "
   ],
   "outputs": [],
   "metadata": {}
  },
  {
   "cell_type": "code",
   "execution_count": 31,
   "source": [
    "spark.stop()"
   ],
   "outputs": [],
   "metadata": {}
  }
 ],
 "metadata": {
  "kernelspec": {
   "name": "python3",
   "display_name": "Python 3.8.8 64-bit ('Spark': conda)"
  },
  "language_info": {
   "codemirror_mode": {
    "name": "ipython",
    "version": 3
   },
   "file_extension": ".py",
   "mimetype": "text/x-python",
   "name": "python",
   "nbconvert_exporter": "python",
   "pygments_lexer": "ipython3",
   "version": "3.8.8"
  },
  "interpreter": {
   "hash": "a022a2d030c047354e5f22d3bbfd39d2ff7059304f3bfb6aa8687f17f5f3bd57"
  }
 },
 "nbformat": 4,
 "nbformat_minor": 5
}